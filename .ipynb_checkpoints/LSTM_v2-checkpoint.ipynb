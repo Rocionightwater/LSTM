{
 "cells": [
  {
   "cell_type": "code",
   "execution_count": 65,
   "metadata": {},
   "outputs": [],
   "source": [
    "import scipy\n",
    "import math\n",
    "import numpy as np\n",
    "from scipy.io import arff\n",
    "from sklearn import preprocessing\n",
    "from sklearn.model_selection import train_test_split\n",
    "from keras.utils import np_utils\n",
    "from sklearn.preprocessing import LabelEncoder\n",
    "import matplotlib.pyplot as plt\n",
    "from sklearn.cluster import KMeans\n",
    "from sklearn.metrics import silhouette_score\n",
    "from scipy.spatial.distance import cdist\n",
    "from sklearn.preprocessing import OneHotEncoder\n",
    "import sklearn.preprocessing"
   ]
  },
  {
   "cell_type": "code",
   "execution_count": 66,
   "metadata": {},
   "outputs": [],
   "source": [
    "dataset_filename = 'IanArffDataset.arff'\n",
    "dataset, meta = arff.loadarff(dataset_filename)\n",
    "\n",
    "feature_names = meta.names()[:-3]\n",
    "label_name    = 'binary result'\n",
    "cat_name      = 'categorized result'\n",
    "\n",
    "features   = dataset[feature_names]\n",
    "labels     = dataset[label_name].astype(np.float).reshape((-1, 1))\n",
    "categories = dataset[cat_name].astype(np.float)\n",
    "\n",
    "cat_encoder = LabelEncoder()\n",
    "categories = cat_encoder.fit_transform(categories)\n",
    "categories = np_utils.to_categorical(categories)\n",
    "\n",
    "addresses = preprocessing.label_binarize(features['address'], classes=[4])\n",
    "\n",
    "encoder = LabelEncoder()\n",
    "functions = encoder.fit_transform(features['function'])\n",
    "functions = np_utils.to_categorical(functions)\n",
    "\n",
    "responses = dataset['command response'].astype(np.float).reshape((-1, 1))\n",
    "\n",
    "timestamp_diffs = np.diff(features['time'])\n",
    "timestamp_diffs = np.insert(timestamp_diffs, 0, 0)"
   ]
  },
  {
   "cell_type": "code",
   "execution_count": 67,
   "metadata": {},
   "outputs": [
    {
     "name": "stderr",
     "output_type": "stream",
     "text": [
      "/usr/local/lib/python3.4/site-packages/ipykernel_launcher.py:3: FutureWarning: Numpy has detected that you may be viewing or writing to an array returned by selecting multiple fields in a structured array. \n",
      "\n",
      "This code may break in numpy 1.13 because this will return a view instead of a copy -- see release notes for details.\n",
      "  This is separate from the ipykernel package so we can avoid doing imports until\n"
     ]
    }
   ],
   "source": [
    "remaining_feature_names = meta.names()[2:14]\n",
    "remaining_features = dataset[remaining_feature_names]\n",
    "remaining_features = remaining_features \\\n",
    "    .view(np.float64) \\\n",
    "    .reshape(remaining_features.shape + (-1,))"
   ]
  },
  {
   "cell_type": "code",
   "execution_count": 68,
   "metadata": {},
   "outputs": [
    {
     "name": "stdout",
     "output_type": "stream",
     "text": [
      "[      nan       nan       nan       nan       nan       nan       nan\n",
      "       nan       nan       nan  0.689655]\n"
     ]
    }
   ],
   "source": [
    "#NEW - Getting Length from Remaining_features\n",
    "lengths = remaining_features[:,0].reshape((-1,1))\n",
    "remaining_features = remaining_features[:,1:]\n",
    "print(remaining_features[1])"
   ]
  },
  {
   "cell_type": "code",
   "execution_count": 69,
   "metadata": {
    "collapsed": true
   },
   "outputs": [],
   "source": [
    "def split_dataset(data, labels, train_per_split, val_per_split, test_per_split):\n",
    "    train_percentage_split      = train_per_split\n",
    "    validation_percentage_split = val_per_split\n",
    "    test_percentage_split       = test_per_split\n",
    "    assert (train_percentage_split + validation_percentage_split + test_percentage_split) == 1.0\n",
    "    \n",
    "    train_end_index = int(data.shape[0] * train_percentage_split)\n",
    "    valid_end_index = int(data.shape[0] * validation_percentage_split) + train_end_index\n",
    "\n",
    "    X_train, Y_train = data[:train_end_index], labels[:train_end_index]\n",
    "    X_valid, Y_valid = data[train_end_index:valid_end_index], labels[train_end_index:valid_end_index]\n",
    "    X_test,  Y_test  = data[valid_end_index:], labels[valid_end_index:]\n",
    "    assert X_train.shape[0] + X_valid.shape[0] + X_test.shape[0] == data.shape[0]\n",
    "    \n",
    "    return (X_train, Y_train), (X_valid, Y_valid), (X_test, Y_test)"
   ]
  },
  {
   "cell_type": "code",
   "execution_count": 70,
   "metadata": {
    "collapsed": true
   },
   "outputs": [],
   "source": [
    "#Spliting data - binary labels\n",
    "(X_train_rf, Y_train_rf), (X_valid_rf, Y_valid_rf), (X_test_rf, Y_test_rf) = split_dataset(remaining_features, labels, .6 , .2, .2)"
   ]
  },
  {
   "cell_type": "code",
   "execution_count": 71,
   "metadata": {
    "collapsed": true
   },
   "outputs": [],
   "source": [
    "#Sliting data - categorical labels\n",
    "(_, Y_train_cat), (_, Y_valid_cat), (_, Y_test_cat) = split_dataset(remaining_features, categories, .6 , .2, .2)"
   ]
  },
  {
   "cell_type": "code",
   "execution_count": 72,
   "metadata": {},
   "outputs": [],
   "source": [
    "#NEW - Classifying Payload (Remaining features)\n",
    "def ClassifyPayload(X_rf,Y_rf):\n",
    "    IndexesNanPayload = []\n",
    "    IndexesOnlyPressure = []\n",
    "    IndexesNoPressure = []\n",
    "    i = 0\n",
    "    for rf in X_rf:\n",
    "        Nan = all(str(i) == 'nan' for i in rf[len(rf)-2:len(rf)])\n",
    "        OnlyPressure = str(rf[len(rf)-2])=='nan' and str(len(rf)!='nan')\n",
    "    #     #print (Nan)\n",
    "        if (Nan):\n",
    "            IndexesNanPayload.append(i)\n",
    "        elif (OnlyPressure):\n",
    "            IndexesOnlyPressure.append(i)\n",
    "        else:\n",
    "            IndexesNoPressure.append(i)\n",
    "        i += 1\n",
    "    #print(IndexesNoPressure)\n",
    "\n",
    "    assert(len(IndexesNanPayload)+len(IndexesOnlyPressure)+len(IndexesNoPressure)) == X_rf.shape[0]\n",
    "\n",
    "    assert(set(IndexesNanPayload)!=set(IndexesOnlyPressure))\n",
    "    assert(set(IndexesOnlyPressure)!=set(IndexesNoPressure))\n",
    "    assert(set(IndexesNoPressure)!=set(IndexesNanPayload))\n",
    "\n",
    "    X_rf_OnlyPressure = X_rf[IndexesOnlyPressure]\n",
    "    Y_rf_OnlyPressure = Y_rf[IndexesOnlyPressure]\n",
    "    X_rf_OnlyPressure = np.array(X_rf_OnlyPressure[:,X_rf_OnlyPressure.shape[1]-1].reshape((-1,1)))\n",
    "    X_rf_NoPressure   = X_rf[IndexesNoPressure]\n",
    "    Y_rf_NoPressure   = Y_rf[IndexesNoPressure]\n",
    "    X_rf_NoPressure   = np.array(X_rf_NoPressure[:,0:X_rf_NoPressure.shape[1]-1])\n",
    "\n",
    "    # IndexesNanPayload   = [str(x) for x in IndexesNanPayload]\n",
    "    # IndexesOnlyPressure = [str(x) for x in IndexesOnlyPressure]\n",
    "    # IndexesNoPressure   = [str(x) for x in IndexesNoPressure]\n",
    "    #print (Y_rf_OnlyPressure)\n",
    "    #print(IndexesNoPressure)\n",
    "    return X_rf_OnlyPressure,X_rf_NoPressure,Y_rf_OnlyPressure,Y_rf_NoPressure,IndexesNanPayload,IndexesOnlyPressure,IndexesNoPressure"
   ]
  },
  {
   "cell_type": "code",
   "execution_count": 73,
   "metadata": {
    "collapsed": true
   },
   "outputs": [],
   "source": [
    "#Clustering - looking for the best number of K\n",
    "\n",
    "def clustering_getK(X, max_k = 10):\n",
    "    clusters=range(2,max_k)\n",
    "    best_score_k = 0\n",
    "    \n",
    "    meandist=[]\n",
    "    kmeans = KMeans(n_clusters=clusters[0], random_state=0).fit(X)\n",
    "    labels = kmeans.labels_\n",
    "    #Average distance measure: calculate the difference of each observation \n",
    "    #with all the centroids. Then get which observation is nearest to which centroids,\n",
    "    #after that add all of them and divide by no of observations. \n",
    "    predictions = kmeans.predict(X)\n",
    "    centers = kmeans.cluster_centers_\n",
    "    print(X.shape)\n",
    "    meandist.append(sum(np.min(cdist(X, centers, 'euclidean'), axis=1))/ X.shape[0])\n",
    "    n_k = 2\n",
    "    #print (best_score_k)\n",
    "\n",
    "    for k in range(clusters[1],len(clusters)+clusters[0]):  \n",
    "        kmeans = KMeans(n_clusters=k, random_state=0).fit(X)\n",
    "        labels = kmeans.labels_\n",
    "        predictions = kmeans.predict(X)\n",
    "        centers = kmeans.cluster_centers_\n",
    "        meandist.append(sum(np.min(cdist(X, centers, 'euclidean'), axis=1))/ X.shape[0])\n",
    "    print(meandist)\n",
    "    plt.plot(clusters, meandist)\n",
    "    plt.xlabel('Number of clusters')\n",
    "    plt.ylabel('Average distance')\n",
    "    plt.title('Selecting k with the Elbow Method')\n",
    "    plt.show()\n",
    "    return n_k, best_score_k"
   ]
  },
  {
   "cell_type": "code",
   "execution_count": 74,
   "metadata": {
    "collapsed": true
   },
   "outputs": [],
   "source": [
    "#Once we know the best number of clusters (k) we perform the clustering\n",
    "def clustering(X, k, indexes):\n",
    "    kmeans = KMeans(n_clusters=k, random_state=0, n_init=100).fit(X)\n",
    "    labels = kmeans.labels_\n",
    "    print(set(labels))\n",
    "    #Average distance measure: calculate the difference of each observation \n",
    "    #with all the centroids. Then get which observation is nearest to which centroids,\n",
    "    #after that add all of them and divide by no of observations. \n",
    "    predictions = kmeans.predict(X)\n",
    "    centers = kmeans.cluster_centers_\n",
    "    print(centers)\n",
    "    return [(a,b) for a,b in zip(indexes, predictions)]"
   ]
  },
  {
   "cell_type": "code",
   "execution_count": 75,
   "metadata": {
    "collapsed": true
   },
   "outputs": [],
   "source": [
    "from sklearn.mixture import GaussianMixture\n",
    "\n",
    "def gmm(X, Y_train, X_val,Y_val, k, cov_type = \"full\", strategy = \"None\"):\n",
    "    #If the strategy we want is supervised\n",
    "    if strategy == \"S\":\n",
    "        #If the covariance type we want is a specific one (by default it is \"full\")\n",
    "        if cov_type != \"None\":\n",
    "            estimator = GaussianMixture(n_components=k, init_params='random', covariance_type=cov_type,\n",
    "                                                         max_iter=200, random_state=0)\n",
    "\n",
    "            n_classes = len(np.unique(Y_train_rf))\n",
    "            estimator.means_init = np.array([X[Y_train.reshape(-1) == i].mean(axis=0)\n",
    "                                           for i in range(n_classes)])\n",
    "            estimator.fit(X)\n",
    "            train_pred = estimator.predict(X)\n",
    "            train_accuracy = np.mean(train_pred.ravel() == Y_train.ravel()) * 100\n",
    "\n",
    "            val_pred = estimator.predict(X_val)\n",
    "            test_accuracy = np.mean(val_pred.ravel() == Y_val.ravel()) * 100\n",
    "            name = cov_type\n",
    "            printGMM(name, train_accuracy,test_accuracy,train_pred,val_pred)\n",
    "\n",
    "        else:\n",
    "            # Try GMMs using different types of covariances.\n",
    "            estimators = dict((cov_type, GaussianMixture(n_components=k, init_params='random', covariance_type=cov_type,\n",
    "                                                         max_iter=200, random_state=0))\n",
    "                              for cov_type in ['spherical', 'diag', 'tied', 'full'])\n",
    "            n_classes = len(np.unique(Y_train_rf))\n",
    "            print(n_classes)\n",
    "\n",
    "            for index, (name, estimator) in enumerate(estimators.items()):\n",
    "                # Since we have class labels for the training data, we can\n",
    "                # initialize the GMM parameters in a supervised manner.\n",
    "\n",
    "\n",
    "                estimator.means_init = np.array([X[Y_train.reshape(-1) == i].mean(axis=0)\n",
    "                                           for i in range(n_classes)])\n",
    "\n",
    "                estimator.fit(X)\n",
    "                train_pred = estimator.predict(X)\n",
    "                train_accuracy = np.mean(train_pred.ravel() == Y_train.ravel()) * 100\n",
    "\n",
    "                val_pred = estimator.predict(X_val)\n",
    "                test_accuracy = np.mean(val_pred.ravel() == Y_val.ravel()) * 100\n",
    "                printGMM(name, train_accuracy,test_accuracy,train_pred,val_pred)\n",
    "        \n",
    "    else:\n",
    "        aic_list = []\n",
    "        clusters = range(2,k+1)\n",
    "        aic_value = float(\"inf\")\n",
    "        best_k = 0\n",
    "        for k1 in range(2,k+1):\n",
    "            estimator = GaussianMixture(n_components=k1, init_params='random', covariance_type=cov_type,\n",
    "                                                                 max_iter=200, random_state=0)\n",
    "            \n",
    "            estimator = estimator.fit(X)\n",
    "            aic = estimator.aic(X_val)\n",
    "            aic_list.append(aic)\n",
    "            if aic <= aic_value:\n",
    "                best_k = k1\n",
    "                aic_value = aic\n",
    "        estimator = GaussianMixture(n_components=k, init_params='random', covariance_type=cov_type,\n",
    "                                                                 max_iter=200, random_state=0)\n",
    "        estimator = estimator.fit(X)\n",
    "        aic = estimator.aic(X_val)\n",
    "        print(best_k)\n",
    "        print (aic)\n",
    "        print(estimator.means_)\n",
    "        train_pred = estimator.predict(X)\n",
    "        val_pred = estimator.predict(X_val)\n",
    "        name = cov_type\n",
    "        train_accuracy = \"null\"\n",
    "        test_accuracy  = \"null\"\n",
    "        printGMM(name, train_accuracy,test_accuracy,train_pred,val_pred)\n",
    "        \n",
    "    plt.plot(clusters, aic_list)\n",
    "    plt.xlabel('Number of clusters')\n",
    "    plt.ylabel('AIC value')\n",
    "    plt.title('Selecting k with the AIC Method')\n",
    "    plt.show()\n",
    "    return train_pred, val_pred, best_k\n",
    "\n",
    "def printGMM(name, train_accuracy,test_accuracy,train_pred,val_pred):\n",
    "    \n",
    "    print(name+\" Accuray for training set = \"+str(train_accuracy))\n",
    "    print(name+\" Accuracy for validation set = \"+str(test_accuracy))\n",
    "    print(name+\" Predictions for training set = \"+str(train_pred))\n",
    "    print(name+\" Predictions for validation set = \"+str(val_pred)+\"\\n\")"
   ]
  },
  {
   "cell_type": "code",
   "execution_count": 76,
   "metadata": {
    "collapsed": true
   },
   "outputs": [],
   "source": [
    "def defineClusters(train_set,val_set,test_set, i):\n",
    "    train_set = train_set + i\n",
    "    val_set   = val_set   + i\n",
    "    test_set  = test_set  + i\n",
    "    return train_set, val_set, test_set"
   ]
  },
  {
   "cell_type": "code",
   "execution_count": 77,
   "metadata": {},
   "outputs": [
    {
     "name": "stdout",
     "output_type": "stream",
     "text": [
      "7\n",
      "138952.769639\n",
      "[[  1.72970378e+33]\n",
      " [  1.28889942e+38]\n",
      " [  6.65694646e+27]\n",
      " [  7.50742754e+00]\n",
      " [  1.90704331e+21]\n",
      " [  8.93054503e+07]\n",
      " [  5.40549509e+30]]\n",
      "full Accuray for training set = null\n",
      "full Accuracy for validation set = null\n",
      "full Predictions for training set = [3 3 3 ..., 3 5 3]\n",
      "full Predictions for validation set = [5 3 3 ..., 3 3 3]\n",
      "\n"
     ]
    },
    {
     "data": {
      "image/png": "[encoded data removed]",
      "text/plain": [
       "<matplotlib.figure.Figure at 0x11949d2b0>"
      ]
     },
     "metadata": {},
     "output_type": "display_data"
    },
    {
     "name": "stdout",
     "output_type": "stream",
     "text": [
      "8\n",
      "-237792.527004\n",
      "[[  9.67676789e+00   1.14010701e+02   2.89108555e-01   5.14330182e-01\n",
      "    9.52024219e-01   5.08965712e-01   5.32963504e-01   6.85698173e-01\n",
      "    3.82656649e-01   6.48924132e-01]\n",
      " [  1.04296935e+01   1.14298563e+02   3.01190060e-01   4.76997582e-01\n",
      "    9.54187187e-01   9.72163498e-07   1.99920886e-01   1.00000000e+00\n",
      "    1.00000000e+00   5.14434621e-01]\n",
      " [  7.61308897e+00   1.15045993e+02   7.67049247e-01   4.84148155e-01\n",
      "    9.85167731e-01   4.77719974e-16   6.66880926e-01   6.29894600e-01\n",
      "    3.69761195e-01   4.95053341e-01]\n",
      " [  9.49803030e+00   6.59185606e+01   2.98830019e-01   4.90189394e-01\n",
      "    9.57935606e-01   1.02657911e-37   5.27462121e-01   6.25000000e-01\n",
      "    3.80681818e-01   4.84848485e-01]\n",
      " [  9.26117973e+00   1.14402027e+02   2.99860736e-01   4.58610026e-01\n",
      "    9.48428779e-01   5.08231011e-08   1.97477489e-01   0.00000000e+00\n",
      "    1.00000000e+00   0.00000000e+00]\n",
      " [  1.02159324e+01   1.14215011e+02   3.03076008e-01   4.84372054e-01\n",
      "    9.80347284e-01   4.34648728e-07   8.47826218e-01   1.00000000e+00\n",
      "    0.00000000e+00   4.54543646e-01]\n",
      " [  1.01474451e+01   1.14440445e+02   3.02619535e-01   4.76160545e-01\n",
      "    9.59990939e-01   1.24426723e-07   0.00000000e+00   0.00000000e+00\n",
      "    2.92605431e-01   6.54485938e-01]\n",
      " [  1.04728315e+01   1.14807335e+02   3.08288344e-01   4.11790369e-01\n",
      "    3.63842346e+00   5.59314197e-21   1.03668580e-01   4.20485788e-01\n",
      "    3.65265919e-01   6.13892254e-01]]\n",
      "full Accuray for training set = null\n",
      "full Accuracy for validation set = null\n",
      "full Predictions for training set = [5 5 5 ..., 3 3 3]\n",
      "full Predictions for validation set = [3 3 3 ..., 5 5 5]\n",
      "\n"
     ]
    },
    {
     "data": {
      "image/png": "[encoded data removed]",
      "text/plain": [
       "<matplotlib.figure.Figure at 0x106913e80>"
      ]
     },
     "metadata": {},
     "output_type": "display_data"
    },
    {
     "name": "stdout",
     "output_type": "stream",
     "text": [
      "7\n",
      "136507.0033\n",
      "[[  1.72970378e+33]\n",
      " [  1.28889942e+38]\n",
      " [  6.65694646e+27]\n",
      " [  7.50742754e+00]\n",
      " [  1.90704331e+21]\n",
      " [  8.93054503e+07]\n",
      " [  5.40549509e+30]]\n",
      "full Accuray for training set = null\n",
      "full Accuracy for validation set = null\n",
      "full Predictions for training set = [3 3 3 ..., 3 5 3]\n",
      "full Predictions for validation set = [3 3 3 ..., 3 3 3]\n",
      "\n"
     ]
    },
    {
     "data": {
      "image/png": "[encoded data removed]",
      "text/plain": [
       "<matplotlib.figure.Figure at 0x119a7ec50>"
      ]
     },
     "metadata": {},
     "output_type": "display_data"
    },
    {
     "name": "stdout",
     "output_type": "stream",
     "text": [
      "3\n",
      "9.30244234622e+12\n",
      "[[  9.67676789e+00   1.14010701e+02   2.89108555e-01   5.14330182e-01\n",
      "    9.52024219e-01   5.08965712e-01   5.32963504e-01   6.85698173e-01\n",
      "    3.82656649e-01   6.48924132e-01]\n",
      " [  1.04296935e+01   1.14298563e+02   3.01190060e-01   4.76997582e-01\n",
      "    9.54187187e-01   9.72163498e-07   1.99920886e-01   1.00000000e+00\n",
      "    1.00000000e+00   5.14434621e-01]\n",
      " [  7.61308897e+00   1.15045993e+02   7.67049247e-01   4.84148155e-01\n",
      "    9.85167731e-01   4.77719974e-16   6.66880926e-01   6.29894600e-01\n",
      "    3.69761195e-01   4.95053341e-01]\n",
      " [  9.49803030e+00   6.59185606e+01   2.98830019e-01   4.90189394e-01\n",
      "    9.57935606e-01   1.02657911e-37   5.27462121e-01   6.25000000e-01\n",
      "    3.80681818e-01   4.84848485e-01]\n",
      " [  9.26117973e+00   1.14402027e+02   2.99860736e-01   4.58610026e-01\n",
      "    9.48428779e-01   5.08231011e-08   1.97477489e-01   0.00000000e+00\n",
      "    1.00000000e+00   0.00000000e+00]\n",
      " [  1.02159324e+01   1.14215011e+02   3.03076008e-01   4.84372054e-01\n",
      "    9.80347284e-01   4.34648728e-07   8.47826218e-01   1.00000000e+00\n",
      "    0.00000000e+00   4.54543646e-01]\n",
      " [  1.01474451e+01   1.14440445e+02   3.02619535e-01   4.76160545e-01\n",
      "    9.59990939e-01   1.24426723e-07   0.00000000e+00   0.00000000e+00\n",
      "    2.92605431e-01   6.54485938e-01]\n",
      " [  1.04728315e+01   1.14807335e+02   3.08288344e-01   4.11790369e-01\n",
      "    3.63842346e+00   5.59314197e-21   1.03668580e-01   4.20485788e-01\n",
      "    3.65265919e-01   6.13892254e-01]]\n",
      "full Accuray for training set = null\n",
      "full Accuracy for validation set = null\n",
      "full Predictions for training set = [5 5 5 ..., 3 3 3]\n",
      "full Predictions for validation set = [5 5 5 ..., 1 1 1]\n",
      "\n"
     ]
    },
    {
     "data": {
      "image/png": "[encoded data removed]",
      "text/plain": [
       "<matplotlib.figure.Figure at 0x11ae9ba20>"
      ]
     },
     "metadata": {},
     "output_type": "display_data"
    },
    {
     "name": "stdout",
     "output_type": "stream",
     "text": [
      "[4 4 4 ..., 4 6 4]\n",
      "7\n",
      "[6 4 4 ..., 4 4 4]\n",
      "7\n",
      "[4 4 4 ..., 4 4 4]\n",
      "7\n",
      "[13 13 13 ..., 11 11 11]\n",
      "8\n",
      "[11 11 11 ..., 13 13 13]\n",
      "8\n",
      "[13 13 13 ...,  9  9  9]\n",
      "8\n"
     ]
    }
   ],
   "source": [
    "def merge_two_dicts(x, y):\n",
    "    \"\"\"Given two dicts, merge them into a new dict as a shallow copy.\"\"\"\n",
    "    z = x.copy()\n",
    "    z.update(y)\n",
    "    return z\n",
    "\n",
    "def impute_simple(Xs, strategy = 'mean', stats = None):\n",
    "    if not stats:\n",
    "        Xs_imputer = preprocessing.Imputer(missing_values='NaN', strategy=strategy, axis=0)\n",
    "        Xs  = Xs_imputer.fit_transform(Xs)\n",
    "        Xs_stats = {}\n",
    "        Xs_stats['impute'] = Xs_imputer.statistics_\n",
    "        return Xs, Xs_stats\n",
    "    else:\n",
    "        for f_index in range(Xs.shape[1]):\n",
    "            feature = Xs[:, f_index]\n",
    "            feature[np.isnan(feature)] = stats['impute'][f_index]\n",
    "            Xs[:, f_index] = feature\n",
    "        return Xs, None\n",
    "\n",
    "def normalize(Xs, stats = None):\n",
    "    if not stats:\n",
    "        Xs_scaler = preprocessing.StandardScaler()\n",
    "        Xs = Xs_scaler.fit_transform(Xs)\n",
    "        Xs_stats = {\n",
    "            'mean'  : Xs_scaler.mean_,\n",
    "            'scale' : Xs_scaler.scale_\n",
    "        }\n",
    "        return Xs, Xs_stats\n",
    "    else:\n",
    "        for f_index in range(Xs.shape[1]):\n",
    "            feature = Xs[:, f_index]\n",
    "            feature -= stats['mean'][f_index]\n",
    "            feature /= stats['scale'][f_index]\n",
    "            Xs[:, f_index] = feature\n",
    "        return Xs, None\n",
    "\n",
    "def preprocess_data(Xs, strategy,Ys=None, train_data_stats = None, max_k =None, indexes = None, X_val= None,Y_val = None, cov_type = None, supervised = None):\n",
    "    \n",
    "    if strategy == \"mean\":\n",
    "        #split again to pre-process each column adequately\n",
    "        #no need to further pre-process these features\n",
    "        addresses = Xs[:, 0]\n",
    "        functions = Xs[:, 1:29]\n",
    "        responses = Xs[:, 29]\n",
    "\n",
    "        # features to be further pre-processed\n",
    "        time_diffs   = Xs[:, 30].reshape((-1, 1))\n",
    "        payload_feas = Xs[:, 31:-1]\n",
    "        pressures    = Xs[:, -1].reshape((-1, 1))\n",
    "\n",
    "        stats = None\n",
    "        if not train_data_stats:\n",
    "            stats = {}\n",
    "            time_diffs, stats['time_diffs'] = normalize(time_diffs)\n",
    "\n",
    "            payload_feas, payload_feas_impute_stats = impute_simple(payload_feas)\n",
    "            payload_feas, payload_feas_norm_stats   = normalize(payload_feas)\n",
    "            stats['payload'] = merge_two_dicts(payload_feas_impute_stats, payload_feas_norm_stats)\n",
    "\n",
    "            pressures, pressures_impute_stats = impute_simple(pressures)\n",
    "            pressures, pressures_norm_stats   = normalize(pressures)\n",
    "            stats['pressures'] = merge_two_dicts(pressures_impute_stats, pressures_norm_stats)\n",
    "\n",
    "        else:\n",
    "            time_diffs, _ = normalize(time_diffs, train_data_stats['time_diffs'])\n",
    "\n",
    "            payload_feas, _ = impute_simple(payload_feas, stats = train_data_stats['payload'])\n",
    "            payload_feas, _ = normalize(payload_feas, train_data_stats['payload'])\n",
    "\n",
    "            pressures, _ = impute_simple(pressures, strategy = 'median', stats = train_data_stats['pressures'])\n",
    "            pressures, _ = normalize(pressures, train_data_stats['pressures'])\n",
    "\n",
    "\n",
    "        Xs_preprocessed = np.column_stack((\n",
    "            addresses,\n",
    "            functions,\n",
    "            responses,\n",
    "            time_diffs,\n",
    "            payload_feas,\n",
    "            pressures\n",
    "        ))\n",
    "\n",
    "        return Xs_preprocessed, stats\n",
    "    elif strategy == \"clustering\":\n",
    "        X_OnlyPressure,X_NoPressure,Y_OnlyPressure,Y_NoPressure,IndexesNan,IndexesOP,IndexesNP = ClassifyPayload(Xs,Ys)\n",
    "        return X_OnlyPressure,X_NoPressure,Y_OnlyPressure,Y_NoPressure,IndexesNan,IndexesOP,IndexesNP\n",
    "    elif strategy == \"kmeansElbow\":\n",
    "        clustering_getK(Xs,max_k)\n",
    "    elif strategy == \"kmeans\":\n",
    "        return clustering(Xs,max_k,indexes) \n",
    "    elif strategy == \"gmm\":\n",
    "        X_pred, val_pred, n_clust = gmm(Xs, Ys, X_val, Y_val, max_k, cov_type, supervised)\n",
    "        return X_pred, val_pred, n_clust\n",
    "        \n",
    "        \n",
    "        \n",
    "        \n",
    "#---------------------------------Perform mean stratrgy--------------------------------------# \n",
    "# X_train_preprocessed, X_train_stats = preprocess_data(X_train,\"mean\")\n",
    "# X_val_preprocessed,  _ = preprocess_data(X_valid, X_train_stats\"mean\")\n",
    "# X_test_preprocessed, _ = preprocess_data(X_test, X_train_stats\"mean\")\n",
    "\n",
    "X_train_rf_OnlyPressure,X_train_rf_NoPressure,Y_train_rf_OnlyPressure,Y_train_rf_NoPressure,IndexesNan_train,IndexesOP_train,IndexesNP_train = preprocess_data(X_train_rf,\"clustering\",Y_train_rf)\n",
    "X_val_rf_OnlyPressure,X_val_rf_NoPressure, Y_val_rf_OnlyPressure,Y_val_rf_NoPressure,IndexesNan_val,IndexesOP_val,IndexesNP_val  = preprocess_data(X_valid_rf,\"clustering\",Y_valid_rf)\n",
    "X_test_rf_OnlyPressure, X_test_rf_NoPressure, Y_test_rf_OnlyPressure, Y_test_rf_NoPressure,IndexesNan_test,IndexesOP_test,IndexesNP_test = preprocess_data(X_test_rf, \"clustering\", Y_test_rf)\n",
    "#----------------------------Perform Kmeans strategy - look for the best k--------------------#\n",
    "#preprocess_data(X_train_rf_OnlyPressure,\"kmeansElbow\",None,None,10)\n",
    "#preprocess_data(X_train_rf_NoPressure, \"kmeansElbow\",None,None,10)\n",
    "#------------------------From Elbow I got K=5 as the best - OnlyPressure Payload---------------#\n",
    "#dictOP_Kmeans = preprocess_data(X_train_rf_OnlyPressure,\"kmeans\",None,None,5,IndexesOP_train)   \n",
    "#-----------------------From Elbow I got K=4 as the best - NoPressure Payload-------------------#\n",
    "#dictNP_Kmeans = preprocess_data(X_train_rf_NoPressure,\"kmeans\",None,None,4,IndexesNP_train) \n",
    "#------------------------------Perform GMM------------------------------------------------------#\n",
    "train_pred_OnlyPress, val_pred_OnlyPress, L = preprocess_data(X_train_rf_OnlyPressure, \"gmm\", Y_train_rf_OnlyPressure,None, 7, None, X_val_rf_OnlyPressure, Y_val_rf_OnlyPressure, \"full\", \"None\")\n",
    "train_pred_NoPress,   val_pred_NoPress,   K = preprocess_data(X_train_rf_NoPressure,\"gmm\", Y_train_rf_NoPressure,None, 8, None, X_val_rf_NoPressure, Y_val_rf_NoPressure, \"full\", \"None\")\n",
    "tr, test_pred_OnlyPress, TL = preprocess_data(X_train_rf_OnlyPressure,\"gmm\", Y_train_rf_OnlyPressure, None, 7, None, X_test_rf_OnlyPressure,Y_test_rf_OnlyPressure, \"full\",  \"None\" )\n",
    "tr, test_pred_NoPress ,  TK = preprocess_data(X_train_rf_NoPressure, \"gmm\", Y_train_rf_NoPressure,None, 8, None, X_test_rf_NoPressure, Y_test_rf_NoPressure, \"full\", \"None\")\n",
    "\n",
    "train_OnlyPress_Clusters, val_OnlyPress_Clusters, test_OnlyPress_Clusters = defineClusters(train_pred_OnlyPress,val_pred_OnlyPress,test_pred_OnlyPress,1)\n",
    "train_NoPress_Clusters, val_NoPress_Clusters, test_NoPress_Clusters = defineClusters(train_pred_NoPress  ,val_pred_NoPress,test_pred_NoPress,  L+1)\n",
    "\n",
    "#THIS IS ONLY PRINTING TO CHECK ALL GOES WELL\n",
    "print(train_OnlyPress_Clusters)\n",
    "\n",
    "n_classes = len(np.unique(train_OnlyPress_Clusters))\n",
    "print(n_classes)\n",
    "\n",
    "print(val_OnlyPress_Clusters)\n",
    "\n",
    "n_classes = len(np.unique(val_OnlyPress_Clusters))\n",
    "print(n_classes)\n",
    "\n",
    "print(test_OnlyPress_Clusters)\n",
    "\n",
    "n_classes = len(np.unique(test_OnlyPress_Clusters))\n",
    "print(n_classes)\n",
    "print(train_NoPress_Clusters)\n",
    "n_classes = len(np.unique(train_NoPress_Clusters))\n",
    "print(n_classes)\n",
    "print(val_NoPress_Clusters)\n",
    "n_classes = len(np.unique(val_NoPress_Clusters))\n",
    "print(n_classes)\n",
    "print(test_NoPress_Clusters)\n",
    "n_classes = len(np.unique(test_NoPress_Clusters))\n",
    "print(n_classes)\n",
    "\n",
    "#One hot encoding (7 clusters)\n",
    "label_binarizer = sklearn.preprocessing.LabelBinarizer()\n",
    "label_binarizer.fit(range(L+K+1))\n",
    "\n",
    "train_OP_Encoder = label_binarizer.transform(train_OnlyPress_Clusters)\n",
    "val_OP_Encoder   = label_binarizer.transform(val_OnlyPress_Clusters)\n",
    "test_OP_Encoder  = label_binarizer.transform(test_OnlyPress_Clusters)\n",
    "\n",
    "train_NP_Encoder = label_binarizer.transform(train_NoPress_Clusters)\n",
    "val_NP_Encoder   = label_binarizer.transform(val_NoPress_Clusters)\n",
    "test_NP_Encoder  = label_binarizer.transform(test_NoPress_Clusters)\n",
    "\n",
    "pred_nan_train = np.zeros(len(IndexesNan_train))\n",
    "pred_nan_val = np.zeros(len(IndexesNan_val))\n",
    "pred_nan_test = np.zeros(len(IndexesNan_test))\n",
    "\n",
    "train_Nan_Encoder = label_binarizer.transform(pred_nan_train)\n",
    "val_Nan_Encoder   = label_binarizer.transform(pred_nan_val)\n",
    "test_Nan_Encoder  = label_binarizer.transform(pred_nan_test)"
   ]
  },
  {
   "cell_type": "code",
   "execution_count": 78,
   "metadata": {},
   "outputs": [],
   "source": [
    "indexes_train = IndexesOP_train + IndexesNP_train + IndexesNan_train\n",
    "\n",
    "encoders_train = np.concatenate((train_OP_Encoder,train_NP_Encoder,train_Nan_Encoder))\n",
    "payload_trainSet = sorted(zip(indexes_train,encoders_train), key=lambda x: x[0])\n",
    "payload_trainSet = np.array([x[1] for x in payload_trainSet])\n",
    "\n",
    "indexes_val  = IndexesOP_val + IndexesNP_val + IndexesNan_val\n",
    "encoders_val = np.concatenate((val_OP_Encoder,val_NP_Encoder,val_Nan_Encoder))\n",
    "payload_valSet = sorted(zip(indexes_val,encoders_val), key=lambda x: x[0])\n",
    "payload_valSet = np.array([x[1] for x in payload_valSet])\n",
    "\n",
    "\n",
    "indexes_test = IndexesOP_test + IndexesNP_test + IndexesNan_test\n",
    "encoders_test = np.concatenate((test_OP_Encoder,test_NP_Encoder,test_Nan_Encoder))\n",
    "payload_testSet = sorted(zip(indexes_test,encoders_test), key=lambda x: x[0])\n",
    "payload_testSet = np.array([x[1] for x in payload_testSet])"
   ]
  },
  {
   "cell_type": "code",
   "execution_count": 79,
   "metadata": {
    "collapsed": true
   },
   "outputs": [],
   "source": [
    "#Join all the features for final training, validation and testing sets\n",
    "def createFinalSets(start,end,X_rf):\n",
    "    new_features = np.column_stack((\n",
    "    addresses[start:end],\n",
    "    functions[start:end],\n",
    "    responses[start:end],\n",
    "    timestamp_diffs[start:end],\n",
    "    lengths[start:end],\n",
    "    X_rf\n",
    "    ))\n",
    "    return new_features\n",
    "\n",
    "train_end = len(payload_trainSet)\n",
    "valid_end = train_end + len(payload_valSet)\n",
    "test_end  = valid_end + len(payload_testSet)\n",
    "    \n",
    "trainSet_features = createFinalSets(0,train_end, payload_trainSet)\n",
    "validSet_features = createFinalSets(train_end, valid_end, payload_valSet)\n",
    "testSet_features  = createFinalSets(valid_end, test_end, payload_testSet)"
   ]
  },
  {
   "cell_type": "code",
   "execution_count": 80,
   "metadata": {
    "collapsed": true
   },
   "outputs": [],
   "source": [
    "assert trainSet_features.shape[0] + validSet_features.shape[0] + testSet_features.shape[0] == dataset.shape[0]"
   ]
  },
  {
   "cell_type": "code",
   "execution_count": 81,
   "metadata": {},
   "outputs": [
    {
     "data": {
      "text/plain": [
       "((164726, 50, 48), (164726, 50, 8))"
      ]
     },
     "execution_count": 81,
     "metadata": {},
     "output_type": "execute_result"
    }
   ],
   "source": [
    "def make_sequences(Xs, Ys, maxlen):\n",
    "    X_seq, Y_seq = [], []\n",
    "    for i in range(0, Xs.shape[0] - maxlen):\n",
    "        X_seq.append(Xs[i: i+maxlen])\n",
    "        Y_seq.append(Ys[i+1: i+maxlen+1])\n",
    "    return np.array(X_seq), np.array(Y_seq)\n",
    "\n",
    "maxlen = 50\n",
    "X_train_seq, Y_train_seq = make_sequences(trainSet_features, Y_train_cat, maxlen)\n",
    "X_val_seq,   Y_val_seq   = make_sequences(validSet_features, Y_valid_cat, maxlen)\n",
    "X_test_seq,  Y_test_seq  = make_sequences(testSet_features,  Y_test_cat,  maxlen)\n",
    "X_train_seq.shape, Y_train_seq.shape"
   ]
  },
  {
   "cell_type": "code",
   "execution_count": null,
   "metadata": {},
   "outputs": [],
   "source": []
  },
  {
   "cell_type": "code",
   "execution_count": null,
   "metadata": {
    "collapsed": true
   },
   "outputs": [],
   "source": [
    "import importlib, Algorithm\n",
    "Algorithm = importlib.reload(Algorithm)\n",
    "#Parameters\n",
    "inp  = X_train_seq.shape[2]\n",
    "outp = Y_train_seq.shape[2]\n",
    "hidden = 128\n",
    "model = Algorithm.one_layer_lstm(maxlen,inp,hidden,outp)\n",
    "\n",
    "iters = 1\n",
    "\n",
    "for iteration in range(iters):\n",
    "    print()\n",
    "    print('-' * 50)\n",
    "    print('Iteration', iteration)\n",
    "    model.fit(X_train_seq, Y_train_seq, batch_size=128, epochs=1)\n",
    "    loss, metrics = model.evaluate(X_val_seq, Y_val_seq, batch_size=128, verbose=1)\n",
    "    print(loss)"
   ]
  },
  {
   "cell_type": "code",
   "execution_count": null,
   "metadata": {
    "collapsed": true
   },
   "outputs": [],
   "source": [
    "test_loss, test_metrics = model.evaluate(X_test_seq, Y_test_seq, batch_size=128, verbose=1)"
   ]
  },
  {
   "cell_type": "code",
   "execution_count": null,
   "metadata": {
    "collapsed": true
   },
   "outputs": [],
   "source": [
    "predictions = model.predict(X_train_seq, batch_size=128, verbose=1)\n",
    "predictions = set(np.argmax(predictions[:2], axis=2))\n",
    "print(predictions)\n",
    "\n",
    "predictions = model.predict(X_val_seq, batch_size=128, verbose=1)\n",
    "predictions = set(np.argmax(predictions[:2], axis=2))\n",
    "print(predictions)\n",
    "\n",
    "predictions = model.predict(X_test_seq, batch_size=128, verbose=1)\n",
    "predictions = set(np.argmax(predictions[:2], axis=2))\n",
    "print(predictions)"
   ]
  },
  {
   "cell_type": "code",
   "execution_count": null,
   "metadata": {
    "collapsed": true
   },
   "outputs": [],
   "source": [
    "set(np.argmax(predictions, axis=2).reshape(-1))"
   ]
  },
  {
   "cell_type": "code",
   "execution_count": null,
   "metadata": {
    "collapsed": true
   },
   "outputs": [],
   "source": [
    "print(predictions[:2])\n",
    "np.argmax(predictions[:2], axis=1)"
   ]
  },
  {
   "cell_type": "code",
   "execution_count": null,
   "metadata": {
    "collapsed": true
   },
   "outputs": [],
   "source": []
  },
  {
   "cell_type": "code",
   "execution_count": null,
   "metadata": {
    "collapsed": true
   },
   "outputs": [],
   "source": []
  }
 ],
 "metadata": {
  "kernelspec": {
   "display_name": "Python 3",
   "language": "python",
   "name": "python3"
  },
  "language_info": {
   "codemirror_mode": {
    "name": "ipython",
    "version": 3
   },
   "file_extension": ".py",
   "mimetype": "text/x-python",
   "name": "python",
   "nbconvert_exporter": "python",
   "pygments_lexer": "ipython3",
   "version": "3.4.2"
  }
 },
 "nbformat": 4,
 "nbformat_minor": 2
}
