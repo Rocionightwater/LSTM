{
 "cells": [
  {
   "cell_type": "code",
   "execution_count": null,
   "metadata": {
    "collapsed": true
   },
   "outputs": [],
   "source": [
    "#!/usr/bin/env python3\n",
    "from keras.models import Sequential\n",
    "import matplotlib.pyplot as plt\n",
    "from keras.layers import TimeDistributed, Dense, Dropout,Activation\n",
    "from keras.layers import Embedding\n",
    "from keras.layers import LSTM\n",
    "from keras.optimizers import RMSprop, Adam\n",
    "import numpy as np\n",
    "\n",
    "def one_layer_lstm(max_len):\n",
    "    model = Sequential()\n",
    "    layers = {'input': 39, 'hidden': 128, 'output': 1}\n",
    "\n",
    "    model.add(LSTM(layers['hidden'],\n",
    "        input_shape=(max_len, layers['input']),\n",
    "        return_sequences=True)\n",
    "    )\n",
    "    #model.add(Dropout(0.5))\n",
    "    \n",
    "    model.add(TimeDistributed(Dense(\n",
    "        layers['output'])))\n",
    "    model.add(Activation(\"softmax\"))\n",
    "    \n",
    "    optimizer = Adam(lr=0.1)\n",
    "    model.compile(loss=\"binary_crossentropy\", optimizer='adam')\n",
    "    model.summary()\n",
    "    return model  \n",
    "\n",
    "def lstm(max_len):\n",
    "    model = Sequential()\n",
    "    layers = {'input': 39, 'hidden1': 64, 'hidden2' : 128, 'output': 1}\n",
    "\n",
    "    model.add(LSTM(layers['hidden1'],\n",
    "        input_shape=(max_len, layers['input']),\n",
    "        return_sequences=True))\n",
    "    model.add(Dropout(0.5))\n",
    "    \n",
    "    model.add(LSTM(\n",
    "        layers['hidden2'],\n",
    "        return_sequences=False))\n",
    "    model.add(Dropout(0.5))\n",
    "    \n",
    "    model.add(Dense(\n",
    "        layers['output']))\n",
    "    model.add(Activation(\"softmax\"))\n",
    "    \n",
    "    model.compile(loss=\"binary_crossentropy\", optimizer=\"adam\")\n",
    "    return model  \n"
   ]
  }
 ],
 "metadata": {
  "kernelspec": {
   "display_name": "Python 3",
   "language": "python",
   "name": "python3"
  },
  "language_info": {
   "codemirror_mode": {
    "name": "ipython",
    "version": 3
   },
   "file_extension": ".py",
   "mimetype": "text/x-python",
   "name": "python",
   "nbconvert_exporter": "python",
   "pygments_lexer": "ipython3",
   "version": "3.4.2"
  }
 },
 "nbformat": 4,
 "nbformat_minor": 2
}
